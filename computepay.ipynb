{
 "cells": [
  {
   "cell_type": "code",
   "execution_count": 1,
   "metadata": {},
   "outputs": [
    {
     "data": {
      "text/plain": [
       "'C:\\\\Users\\\\IBS'"
      ]
     },
     "execution_count": 1,
     "metadata": {},
     "output_type": "execute_result"
    }
   ],
   "source": [
    "pwd"
   ]
  },
  {
   "cell_type": "code",
   "execution_count": 1,
   "metadata": {},
   "outputs": [
    {
     "name": "stdout",
     "output_type": "stream",
     "text": [
      "Enter score :.62\n",
      "D\n"
     ]
    }
   ],
   "source": [
    "def computegrade(score):\n",
    "    if score > 0 and score < 1:\n",
    "        if score >=.9:\n",
    "            print('A')\n",
    "        elif score >= .8:\n",
    "            print('B')\n",
    "        elif score >= .7:\n",
    "            print('C')\n",
    "        elif score >= .6:\n",
    "            print('D')\n",
    "        else:\n",
    "            print('F')\n",
    "    else:\n",
    "        print('Bad Score')\n",
    "input_score=input(\"Enter score :\")\n",
    "try:\n",
    "    score=float(input_score)\n",
    "except:\n",
    "    print(\"Bad Score\")\n",
    "    quit()\n",
    "computegrade(score)"
   ]
  },
  {
   "cell_type": "code",
   "execution_count": null,
   "metadata": {},
   "outputs": [],
   "source": []
  },
  {
   "cell_type": "code",
   "execution_count": null,
   "metadata": {},
   "outputs": [],
   "source": []
  }
 ],
 "metadata": {
  "kernelspec": {
   "display_name": "Python 3",
   "language": "python",
   "name": "python3"
  },
  "language_info": {
   "codemirror_mode": {
    "name": "ipython",
    "version": 3
   },
   "file_extension": ".py",
   "mimetype": "text/x-python",
   "name": "python",
   "nbconvert_exporter": "python",
   "pygments_lexer": "ipython3",
   "version": "3.7.0"
  }
 },
 "nbformat": 4,
 "nbformat_minor": 2
}
