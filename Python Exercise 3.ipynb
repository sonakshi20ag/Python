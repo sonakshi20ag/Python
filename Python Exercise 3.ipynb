{
 "cells": [
  {
   "cell_type": "code",
   "execution_count": 11,
   "metadata": {},
   "outputs": [
    {
     "name": "stdout",
     "output_type": "stream",
     "text": [
      "Enter a number :4\n",
      "Enter a number :5\n",
      "Enter a number :3\n",
      "Enter a number :abc\n",
      "invalid input\n",
      "Enter a number :8\n",
      "Enter a number :done\n",
      "20.0 5.0 4\n"
     ]
    }
   ],
   "source": [
    "count = 0                          # Initializes values\n",
    "total = 0\n",
    "largest = None\n",
    "smallest = None\n",
    "while True:                       #Stays in loop until break\n",
    "    input_number = input(\"Enter a number :\")\n",
    "    if input_number == 'done' : break  #Exits the loop\n",
    "    try:\n",
    "        number = float(input_number)    #only allows input floats\n",
    "        count = count+1                             #counter\n",
    "        total = total+number                        #Running total\n",
    "        average = total/count                               #computes the average\n",
    "    except:\n",
    "        print(\"invalid input\")\n",
    "print(total, average,count)"
   ]
  },
  {
   "cell_type": "markdown",
   "metadata": {},
   "source": [
    "Exercise 2"
   ]
  },
  {
   "cell_type": "code",
   "execution_count": 14,
   "metadata": {},
   "outputs": [
    {
     "name": "stdout",
     "output_type": "stream",
     "text": [
      "Enter a number : 4\n",
      "Enter a number : 2\n",
      "Enter a number : 5\n",
      "Enter a number : abc\n",
      "Invalid input\n",
      "Enter a number : 5\n",
      "Enter a number : done\n",
      "16.0 4 5.0 2.0\n"
     ]
    }
   ],
   "source": [
    "count=0\n",
    "total=0\n",
    "largest=None\n",
    "smallest=None\n",
    "while True:\n",
    "    input1=input(\"Enter a number : \")\n",
    "    if input1 == 'done' : break\n",
    "    try:\n",
    "        number= float(input1)\n",
    "        count=count+1\n",
    "        total=total+number\n",
    "    except:\n",
    "        print(\"Invalid input\")\n",
    "    if largest is None or number>largest:\n",
    "        largest=number\n",
    "    if smallest is None or number<smallest:\n",
    "        smallest=number\n",
    "print(total,count,largest,smallest)"
   ]
  },
  {
   "cell_type": "markdown",
   "metadata": {},
   "source": [
    "to count number of characters in a string say 'yahoo.com'"
   ]
  },
  {
   "cell_type": "code",
   "execution_count": 23,
   "metadata": {},
   "outputs": [
    {
     "name": "stdout",
     "output_type": "stream",
     "text": [
      "{'y': 1, 'a': 1, 'h': 1, 'o': 3, '.': 1, 'c': 1, 'm': 1}\n"
     ]
    }
   ],
   "source": [
    "def char_frequency(str1):\n",
    "    dict={}\n",
    "    for n in str1:\n",
    "        keys=dict.keys()\n",
    "        if n in keys:\n",
    "            dict[n]+=1\n",
    "        else:\n",
    "            dict[n]=1\n",
    "    return dict\n",
    "print(char_frequency('yahoo.com'))"
   ]
  },
  {
   "cell_type": "markdown",
   "metadata": {},
   "source": [
    "to get single string from two given strings, separated by a space and swap the first two characters of each string"
   ]
  },
  {
   "cell_type": "code",
   "execution_count": 26,
   "metadata": {},
   "outputs": [
    {
     "name": "stdout",
     "output_type": "stream",
     "text": [
      "xycabz\n"
     ]
    }
   ],
   "source": [
    "def chars_mix_up(a,b):\n",
    "    new_a = b[:2] + a[2:]\n",
    "    new_b = a[:2] + b[2:]\n",
    "    return new_a+''+new_b\n",
    "print(chars_mix_up('abc','xyz'))"
   ]
  },
  {
   "cell_type": "markdown",
   "metadata": {},
   "source": [
    "to add 'ing' at the end of a given string(length should be atleast 3) . If given string already ends with 'ing' then add 'ly' instead and leave the string if it has  'ly'"
   ]
  },
  {
   "cell_type": "code",
   "execution_count": 35,
   "metadata": {},
   "outputs": [
    {
     "name": "stdout",
     "output_type": "stream",
     "text": [
      "ab\n",
      "abcing\n",
      "strly\n"
     ]
    }
   ],
   "source": [
    "def add_string(str1):\n",
    "    length=len(str1)\n",
    "    if length>2:\n",
    "        if str1[-3:]=='ing':\n",
    "            str1=str1[:length-3]\n",
    "            str1+='ly'\n",
    "        else:\n",
    "            str1+='ing'\n",
    "    return str1\n",
    "print(add_string('ab'))\n",
    "print(add_string('abc'))\n",
    "print(add_string('string'))"
   ]
  },
  {
   "cell_type": "markdown",
   "metadata": {},
   "source": [
    "to find the first appearance of the substring 'not' and 'poor' from a given string, if 'not' follows 'poor' , replace the whole 'not'..'poor' substring with 'good'. Return the resulting string"
   ]
  },
  {
   "cell_type": "code",
   "execution_count": 34,
   "metadata": {},
   "outputs": [
    {
     "name": "stdout",
     "output_type": "stream",
     "text": [
      "the lyrics is good!\n",
      "the lyrics is poor!\n"
     ]
    }
   ],
   "source": [
    "def not_poor(str1):\n",
    "    snot = str1.find('not')\n",
    "    spoor = str1.find('poor')\n",
    "    if spoor>snot and snot>0 and spoor>0:\n",
    "        str1=str1.replace(str1[snot:(spoor+4)],'good')\n",
    "        return str1\n",
    "    else:\n",
    "        return str1\n",
    "print(not_poor(\"the lyrics is not that poor!\"))\n",
    "print(not_poor(\"the lyrics is poor!\"))"
   ]
  },
  {
   "cell_type": "code",
   "execution_count": null,
   "metadata": {},
   "outputs": [],
   "source": []
  }
 ],
 "metadata": {
  "kernelspec": {
   "display_name": "Python 3",
   "language": "python",
   "name": "python3"
  },
  "language_info": {
   "codemirror_mode": {
    "name": "ipython",
    "version": 3
   },
   "file_extension": ".py",
   "mimetype": "text/x-python",
   "name": "python",
   "nbconvert_exporter": "python",
   "pygments_lexer": "ipython3",
   "version": "3.7.0"
  }
 },
 "nbformat": 4,
 "nbformat_minor": 2
}
