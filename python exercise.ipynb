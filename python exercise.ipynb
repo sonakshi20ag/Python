{
 "cells": [
  {
   "cell_type": "code",
   "execution_count": 1,
   "metadata": {},
   "outputs": [
    {
     "data": {
      "text/plain": [
       "'C:\\\\Users\\\\IBS'"
      ]
     },
     "execution_count": 1,
     "metadata": {},
     "output_type": "execute_result"
    }
   ],
   "source": [
    "pwd"
   ]
  },
  {
   "cell_type": "code",
   "execution_count": 2,
   "metadata": {},
   "outputs": [],
   "source": [
    "import os\n",
    "os.chdir('C:\\\\Users\\\\IBS')"
   ]
  },
  {
   "cell_type": "code",
   "execution_count": 3,
   "metadata": {},
   "outputs": [
    {
     "ename": "SyntaxError",
     "evalue": "Missing parentheses in call to 'print'. Did you mean print(\"Zap\")? (<ipython-input-3-a34c3cd67461>, line 2)",
     "output_type": "error",
     "traceback": [
      "\u001b[1;36m  File \u001b[1;32m\"<ipython-input-3-a34c3cd67461>\"\u001b[1;36m, line \u001b[1;32m2\u001b[0m\n\u001b[1;33m    print \"Zap\"\u001b[0m\n\u001b[1;37m              ^\u001b[0m\n\u001b[1;31mSyntaxError\u001b[0m\u001b[1;31m:\u001b[0m Missing parentheses in call to 'print'. Did you mean print(\"Zap\")?\n"
     ]
    }
   ],
   "source": [
    "def fred():\n",
    "    print \"Zap\"\n",
    "def jane():\n",
    "    print \"ABC\""
   ]
  },
  {
   "cell_type": "code",
   "execution_count": 4,
   "metadata": {},
   "outputs": [],
   "source": [
    "def fred():\n",
    "    print (\"Zap\")\n",
    "def jane():\n",
    "    print (\"ABC\")"
   ]
  },
  {
   "cell_type": "code",
   "execution_count": 5,
   "metadata": {},
   "outputs": [
    {
     "name": "stdout",
     "output_type": "stream",
     "text": [
      "Zap\n"
     ]
    }
   ],
   "source": [
    "fred()"
   ]
  },
  {
   "cell_type": "code",
   "execution_count": 6,
   "metadata": {},
   "outputs": [
    {
     "name": "stdout",
     "output_type": "stream",
     "text": [
      "ABC\n"
     ]
    }
   ],
   "source": [
    "jane()"
   ]
  },
  {
   "cell_type": "code",
   "execution_count": 7,
   "metadata": {},
   "outputs": [
    {
     "name": "stdout",
     "output_type": "stream",
     "text": [
      "Zap\n"
     ]
    }
   ],
   "source": [
    "def fred():\n",
    "    print (\"Zap\")\n",
    "def jane():\n",
    "    print (\"ABC\")\n",
    "fred()"
   ]
  },
  {
   "cell_type": "code",
   "execution_count": 8,
   "metadata": {},
   "outputs": [
    {
     "name": "stdout",
     "output_type": "stream",
     "text": [
      "Zap\n",
      "ABC\n"
     ]
    }
   ],
   "source": [
    "def fred():\n",
    "    print (\"Zap\")\n",
    "def jane():\n",
    "    print (\"ABC\")\n",
    "fred()\n",
    "jane()"
   ]
  },
  {
   "cell_type": "code",
   "execution_count": 9,
   "metadata": {},
   "outputs": [
    {
     "name": "stdout",
     "output_type": "stream",
     "text": [
      "Enter the number of hours45\n",
      "45\n"
     ]
    }
   ],
   "source": [
    "hours=input(\"Enter the number of hours\")\n",
    "print(hours)"
   ]
  },
  {
   "cell_type": "code",
   "execution_count": 10,
   "metadata": {},
   "outputs": [
    {
     "name": "stdout",
     "output_type": "stream",
     "text": [
      "Enter rate10\n",
      "10\n"
     ]
    }
   ],
   "source": [
    "rate=input(\"Enter rate\")\n",
    "print(rate)"
   ]
  },
  {
   "cell_type": "code",
   "execution_count": 11,
   "metadata": {},
   "outputs": [
    {
     "name": "stdout",
     "output_type": "stream",
     "text": [
      "Enter the number of hours45\n",
      "Enter rate10\n",
      "45.0\n",
      "10.0\n"
     ]
    }
   ],
   "source": [
    "hours=float(input(\"Enter the number of hours\"))\n",
    "rate=float(input(\"Enter rate\"))\n",
    "print(hours)\n",
    "print(rate)\n",
    "def computepay():\n",
    "    computepay=hours*rate\n",
    "    print(computepay)"
   ]
  },
  {
   "cell_type": "code",
   "execution_count": 12,
   "metadata": {},
   "outputs": [
    {
     "name": "stdout",
     "output_type": "stream",
     "text": [
      "Enter the number of hours45\n",
      "Enter rate10\n",
      "45.0\n",
      "10.0\n"
     ]
    }
   ],
   "source": [
    "hours=float(input(\"Enter the number of hours\"))\n",
    "rate=float(input(\"Enter rate\"))\n",
    "print(hours)\n",
    "print(rate)\n",
    "def computepay():\n",
    "    computepay=hours*rate\n",
    "    print(computepay)"
   ]
  },
  {
   "cell_type": "code",
   "execution_count": 13,
   "metadata": {},
   "outputs": [
    {
     "name": "stdout",
     "output_type": "stream",
     "text": [
      "Enter the number of hours45\n",
      "Enter rate10\n"
     ]
    }
   ],
   "source": [
    "hours=float(input(\"Enter the number of hours\"))\n",
    "rate=float(input(\"Enter rate\"))\n",
    "def computepay():\n",
    "    computepay=hours*rate\n",
    "    print(computepay)"
   ]
  },
  {
   "cell_type": "code",
   "execution_count": 15,
   "metadata": {},
   "outputs": [
    {
     "name": "stdout",
     "output_type": "stream",
     "text": [
      "Enter the number of hours45\n",
      "Enter rate10\n",
      "450.0\n"
     ]
    }
   ],
   "source": [
    "hours=float(input(\"Enter the number of hours\"))\n",
    "rate=float(input(\"Enter rate\"))\n",
    "def computepay():\n",
    "   print(hours*rate)\n",
    "computepay()"
   ]
  },
  {
   "cell_type": "code",
   "execution_count": 17,
   "metadata": {},
   "outputs": [
    {
     "name": "stdout",
     "output_type": "stream",
     "text": [
      "Enter Hours:abc\n",
      "Error, please enter numeric value\n"
     ]
    }
   ],
   "source": [
    "input_hours=input(\"Enter Hours:\")\n",
    "try:\n",
    "    hours=float(input_hours)\n",
    "except:\n",
    "    print(\"Error, please enter numeric value\")\n",
    "    quit()"
   ]
  },
  {
   "cell_type": "code",
   "execution_count": 1,
   "metadata": {},
   "outputs": [
    {
     "name": "stdout",
     "output_type": "stream",
     "text": [
      "Enter Rate:abc\n",
      "Error, please enter numeric value\n"
     ]
    }
   ],
   "source": [
    "input_rate=input(\"Enter Rate:\")\n",
    "try:\n",
    "    rate=float(input_rate)\n",
    "except:\n",
    "    print(\"Error, please enter numeric value\")\n",
    "    quit()"
   ]
  },
  {
   "cell_type": "code",
   "execution_count": 1,
   "metadata": {},
   "outputs": [
    {
     "ename": "NameError",
     "evalue": "name 'computepay' is not defined",
     "output_type": "error",
     "traceback": [
      "\u001b[1;31m---------------------------------------------------------------------------\u001b[0m",
      "\u001b[1;31mNameError\u001b[0m                                 Traceback (most recent call last)",
      "\u001b[1;32m<ipython-input-1-d429b1c07f4e>\u001b[0m in \u001b[0;36m<module>\u001b[1;34m()\u001b[0m\n\u001b[1;32m----> 1\u001b[1;33m \u001b[0mcomputepay\u001b[0m\u001b[1;33m(\u001b[0m\u001b[0mhours\u001b[0m\u001b[1;33m,\u001b[0m\u001b[0mrate\u001b[0m\u001b[1;33m)\u001b[0m\u001b[1;33m\u001b[0m\u001b[0m\n\u001b[0m",
      "\u001b[1;31mNameError\u001b[0m: name 'computepay' is not defined"
     ]
    }
   ],
   "source": [
    "computepay(hours,rate)"
   ]
  },
  {
   "cell_type": "code",
   "execution_count": null,
   "metadata": {},
   "outputs": [],
   "source": []
  }
 ],
 "metadata": {
  "kernelspec": {
   "display_name": "Python 3",
   "language": "python",
   "name": "python3"
  },
  "language_info": {
   "codemirror_mode": {
    "name": "ipython",
    "version": 3
   },
   "file_extension": ".py",
   "mimetype": "text/x-python",
   "name": "python",
   "nbconvert_exporter": "python",
   "pygments_lexer": "ipython3",
   "version": "3.7.0"
  }
 },
 "nbformat": 4,
 "nbformat_minor": 2
}
